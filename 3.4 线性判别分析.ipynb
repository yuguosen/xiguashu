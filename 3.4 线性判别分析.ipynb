  {
 "cells": [
  {
   "cell_type": "markdown",
   "metadata": {},
   "source": [
    "# 线性判别分析"
   ]
  },
  {
   "cell_type": "markdown",
   "metadata": {},
   "source": [
    "LDA是一种有监督的降维方式，也可用于分类\n",
    "核心思想是将高维的数据特征投影到一个更低维度的空间中去，使得投影后的数据各类内部的方差最小、各类之间的方差最大"
   ]
  },
  {
   "cell_type": "markdown",
   "metadata": {},
   "source": [
    "## 1 瑞利熵与广义瑞利熵"
   ]
  },
  {
   "cell_type": "markdown",
   "metadata": {},
   "source": [
    "在正式推到LDA之前需要介绍下瑞利熵与广义瑞利熵.\n",
    "\n",
    "瑞利熵的定义：\n",
    "$\n",
    "    R(A,x)=\\frac{x^HAx}{x^Hx}\n",
    "$\n",
    "\n",
    "其中\n",
    "\n",
    "   x是一个非零的向量\n",
    "   \n",
    "   $x^H$是x的共轭转置矩阵\n",
    "   \n",
    "   A是一个厄米特矩阵-其共轭转置矩阵等于自己$\\rightarrow  A^H=A$\n",
    " \n",
    " 瑞利熵有一个很重要的特性，它的最大值等于矩阵A的最大特征值，最小值等于矩阵A的最小特征值。\n",
    " \n",
    " 广义瑞利熵的定义：\n",
    " $\n",
    "     R(A,B,x)=\\frac{x^HAx}{x^HBx}\n",
    " $\n",
    " 该式的最大值是$B^-1A$的最大特征值，最小值是$B^-1A$的最小特征值"
   ]
  },
  {
   "cell_type": "markdown",
   "metadata": {},
   "source": [
    "## 2 二分类LDA的推导"
   ]
  },
  {
   "cell_type": "markdown",
   "metadata": {},
   "source": [
    "定义样本集合为\n",
    "$D((x_1,y_1),(x_2,y_2)...(x_n,y_n))$  其中$x_i$是一个向量，$y_i\\in(0,1)$"
   ]
  },
  {
   "cell_type": "markdown",
   "metadata": {},
   "source": [
    "定义$N_j(j \\in(0,1))$为第j类样本的总个数\n",
    "\n",
    "$X_j(j \\in (0,1))$是第j类样本\n",
    "\n",
    "$u_j(j \\in (0,1))$是第j类样本的均值向量，$u_j=\\frac{1}{N_j}\\sum x$\n",
    "\n",
    "$\\sum j(i \\in (0,1))$是第j类样本的协方差矩阵,$\\sum j=\\frac{\\sum(x-u_j)(x-u_j)^T}{N_j} $\n",
    "\n",
    "$w$是我们映射的直线，向量u经过直线w映射之后其值为$w^Tu$\n",
    "\n",
    "那么类之间的距离最大即为:  $||w^Tu_0-w^Tu_1||^2_2$\n",
    "\n",
    "类之间的距离应该尽可能小: $w^T\\sum_0w+w^T\\sum_1w$\n",
    "\n",
    "目标函数即可写成: $arg max J(w)=\\frac{||w^Tu_0-w^Tu_1||^2_2}{w^T(\\sum_0+\\sum_1)w}=\\frac{w^T(u_0-u_1)(u_0-u_1)^Tw}{w^T(\\sum_0+\\sum_1)w}$\n",
    "\n",
    "既是一个广义瑞利熵形式\n"
   ]
  },
  {
   "cell_type": "markdown",
   "metadata": {},
   "source": [
    "##  3 LDA 与PCA的比较"
   ]
  },
  {
   "cell_type": "markdown",
   "metadata": {},
   "source": [
    "相同点：\n",
    "\n",
    "    都可用于数据降维\n",
    "    \n",
    "    都是假设数据符合高斯分布\n",
    "    \n",
    "不同点：\n",
    "\n",
    "    LDA是有监督的，PCA是无监督\n",
    "    \n",
    "    LDA最多可以降到k-1维，PCA则没有这个限制\n",
    "    \n",
    "    LDA的思路是类内方差最小，类间方差最大，PCA则有两种标准一种是样本点所求平面上的方差尽可能大，一种则是样本点到平面上的距离尽可能小"
   ]
  },
  {
   "cell_type": "markdown",
   "metadata": {},
   "source": [
    "## 4 LDA 的优缺点"
   ]
  },
  {
   "cell_type": "markdown",
   "metadata": {},
   "source": [
    "优点:\n",
    "\n",
    "是一种有监督的方法，能够充分利用先验知识\n",
    "\n",
    "当样本分类依赖均值的时候表现较好\n",
    "\n",
    "缺点：\n",
    "\n",
    "最大只能将数据将到k-1维，超过这个则不行\n",
    "\n",
    "样本数据符合高斯分布\n",
    "\n",
    "当样本分类依赖方差的时候表现不好\n",
    "\n",
    "有可能会过拟合\n"
   ]
  },
  {
   "cell_type": "markdown",
   "metadata": {},
   "source": [
    "## 5 scikit-learn中LDA的使用"
   ]
  },
  {
   "cell_type": "code",
   "execution_count": 18,
   "metadata": {},
   "outputs": [
    {
     "data": {
      "text/plain": [
       "<matplotlib.collections.PathCollection at 0x241f71e1438>"
      ]
     },
     "execution_count": 18,
     "metadata": {},
     "output_type": "execute_result"
    },
    {
     "data": {
      "image/png": "[encoded data removed]",
      "text/plain": [
       "<matplotlib.figure.Figure at 0x241f5e157b8>"
      ]
     },
     "metadata": {},
     "output_type": "display_data"
    }
   ],
   "source": [
    "from sklearn.discriminant_analysis import LinearDiscriminantAnalysis\n",
    "from sklearn import datasets\n",
    "from mpl_toolkits.mplot3d import Axes3D\n",
    "import pandas as pd\n",
    "import matplotlib.pyplot as plt\n",
    "import numpy as np\n",
    "%matplotlib inline\n",
    "\n",
    "iris=datasets.load_iris()\n",
    "iris_data=iris['data']\n",
    "iris_label=iris['target']\n",
    "iris_target_name=iris['target_names']\n",
    "X=np.array(iris_data)\n",
    "Y=np.array(iris_label)\n",
    "\n",
    "fig = plt.figure()\n",
    "\n",
    "##绘制3D的这个要跟下面绘制lda的分开运行\n",
    "#ax = Axes3D(fig, rect=[0, 0, 1, 1], elev=30, azim=20) \n",
    "#ax.scatter(X[:, 0], X[:, 1], X[:, 2],marker='o',c=Y)\n",
    "\n",
    "lda = LinearDiscriminantAnalysis(n_components=2)\n",
    "lda.fit(X,Y)\n",
    "X_new = lda.transform(X)\n",
    "plt.scatter(X_new[:, 0], X_new[:, 1],marker='o',c=Y)"
   ]
  },
  {
   "cell_type": "code",
   "execution_count": null,
   "metadata": {
    "collapsed": true
   },
   "outputs": [],
   "source": []
  }
 ],
 "metadata": {
  "kernelspec": {
   "display_name": "Python 3",
   "language": "python",
   "name": "python3"
  },
  "language_info": {
   "codemirror_mode": {
    "name": "ipython",
    "version": 3
   },
   "file_extension": ".py",
   "mimetype": "text/x-python",
   "name": "python",
   "nbconvert_exporter": "python",
   "pygments_lexer": "ipython3",
   "version": "3.6.1"
  }
 },
 "nbformat": 4,
 "nbformat_minor": 2
}
