{
 "cells": [
  {
   "cell_type": "markdown",
   "metadata": {},
   "source": [
    "# Lift 提升图 Python实现"
   ]
  },
  {
   "cell_type": "markdown",
   "metadata": {},
   "source": [
    "Lift提升图评估的是模型的区分能力相对于随机选择的提升度，一般过程是模型开发好之后，将模型的预测值按照评分从低到高进行排序(就是风险又高到到低，如果预测返回的是概率那就是一个降序排列)，平均分成n组，然后计算每组好坏的比例与总体样本好坏的比例进行对比。"
   ]
  },
  {
   "cell_type": "code",
   "execution_count": 148,
   "metadata": {
    "collapsed": true
   },
   "outputs": [],
   "source": [
    "import pandas as pd\n",
    "import matplotlib.pyplot as plt\n",
    "import numpy as np\n",
    "%matplotlib inline"
   ]
  },
  {
   "cell_type": "code",
   "execution_count": 149,
   "metadata": {
    "collapsed": true
   },
   "outputs": [],
   "source": [
    "def plot_lift(preds,labels,n,asc):\n",
    "    '''\n",
    "        preds:预测值，得分或者概率\n",
    "        labels:实际值,值是0和1，其中1表示的是坏样本\n",
    "        n:划分的区间个数\n",
    "        asc:排列顺序，1表示的是升序，0表示的是降序；具体值是根据预测值的类型来定，如果越高表示风险越大则用降序，反之升序\n",
    "    '''\n",
    "    data=pd.DataFrame({'preds':preds,'labels':labels})\n",
    "    \n",
    "    #排序\n",
    "    if asc==1:\n",
    "        data.sort_values(by=['preds'],ascending=True,inplace=True)\n",
    "    if asc==0:\n",
    "        data.sort_values(by=['preds'],ascending=False,inplace=True)\n",
    "    data.reset_index(drop=True, inplace=True)\n",
    "    \n",
    "    #分组\n",
    "    data['group']=np.int16(data.index/(len(data.index)/n)+1)\n",
    "    \n",
    "    #统计\n",
    "    data_bad=data.groupby(['group'])['labels'].agg('sum')\n",
    "    \n",
    "    data_cnt=data.groupby(['group'])['labels'].agg('count')\n",
    "    \n",
    "    dd=pd.DataFrame({'bad':data_bad,'cnt':data_cnt})\n",
    "    \n",
    "    dd['pre_bad_rat']=dd['bad']/dd['cnt']\n",
    "    \n",
    "    total_rat=data['labels'].sum()/data['labels'].count()\n",
    "    \n",
    "    dd['lift']=dd['pre_bad_rat']/total_rat\n",
    "    plt.plot(dd.index,dd['lift'])\n",
    "    plt.plot(dd.index,[total_rat]*len(dd.index))\n",
    "    "
   ]
  },
  {
   "cell_type": "code",
   "execution_count": 150,
   "metadata": {
    "collapsed": true
   },
   "outputs": [],
   "source": [
    "# 使用scikit-learn自带的包来测试下\n",
    "from sklearn.ensemble import GradientBoostingClassifier\n",
    "from sklearn import datasets\n",
    "from sklearn.model_selection import train_test_split\n",
    "from sklearn.preprocessing import MinMaxScaler"
   ]
  },
  {
   "cell_type": "code",
   "execution_count": 151,
   "metadata": {
    "collapsed": true
   },
   "outputs": [],
   "source": [
    "cancer = datasets.load_breast_cancer()\n",
    "#print('breast_cancer数据集的长度为：',len(cancer))\n",
    "#print('breast_cancer数据集的类型为：',type(cancer))\n",
    "#print(cancer)\n",
    "cancer_data = cancer['data']\n",
    "cancer_target = cancer['target']\n",
    "cancer_names = cancer['feature_names']\n",
    "cancer_desc = cancer['DESCR']\n",
    "#分为训练集与测试集\n",
    "cancer_data_train,cancer_data_test = train_test_split(cancer_data,test_size=0.2,random_state=42)#训练集\n",
    "cancer_target_train,cancer_target_test = train_test_split(cancer_target,test_size=0.2,random_state=42)#测试集\n",
    "#使用sklearn转换器进行数据预处理//离差标准化\n",
    "Scaler = MinMaxScaler().fit(cancer_data_train)#生成规则\n",
    "cancer_trainScaler = Scaler.transform(cancer_data_train)\n",
    "cancer_testScaler = Scaler.transform(cancer_data_test)#此处测试集使用了训练集规则，会有数据结果超过[0,1]."
   ]
  },
  {
   "cell_type": "code",
   "execution_count": 152,
   "metadata": {
    "collapsed": true
   },
   "outputs": [],
   "source": [
    "gbm0 = GradientBoostingClassifier(random_state=10)\n",
    "gbm0.fit(cancer_trainScaler,cancer_target_train)\n",
    "y_predprob = gbm0.predict_proba(cancer_testScaler)[:,1]"
   ]
  },
  {
   "cell_type": "code",
   "execution_count": 139,
   "metadata": {},
   "outputs": [
    {
     "name": "stdout",
     "output_type": "stream",
     "text": [
      "   labels     preds\n",
      "0       1  0.999137\n",
      "1       0  0.000369\n",
      "2       0  0.001644\n",
      "3       1  0.999563\n",
      "4       1  0.999745\n",
      "5       0  0.000464\n",
      "6       0  0.000391\n",
      "7       0  0.021241\n",
      "8       1  0.298659\n",
      "9       1  0.999083\n",
      "   labels     preds  group\n",
      "0       1  0.999755      1\n",
      "1       1  0.999745      1\n",
      "2       1  0.999735      1\n",
      "3       1  0.999713      1\n",
      "4       1  0.999663      1\n",
      "5       1  0.999662      1\n",
      "6       1  0.999659      1\n",
      "7       1  0.999659      1\n",
      "8       1  0.999633      1\n",
      "9       1  0.999631      1\n",
      "       bad  cnt  pre_bad_rat      lift\n",
      "group                                 \n",
      "1       15   15     1.000000  1.605634\n",
      "2       14   14     1.000000  1.605634\n",
      "3       14   14     1.000000  1.605634\n",
      "4       14   14     1.000000  1.605634\n",
      "5       12   15     0.800000  1.284507\n",
      "6        2   14     0.142857  0.229376\n",
      "7        0   14     0.000000  0.000000\n",
      "8        0   14     0.000000  0.000000\n"
     ]
    },
    {
     "data": {
      "image/png": "[encoded data removed]",
      "text/plain": [
       "<matplotlib.figure.Figure at 0x10e19c686d8>"
      ]
     },
     "metadata": {},
     "output_type": "display_data"
    }
   ],
   "source": [
    "plot_lift(y_predprob,cancer_target_test,8,0)"
   ]
  },
  {
   "cell_type": "code",
   "execution_count": null,
   "metadata": {
    "collapsed": true
   },
   "outputs": [],
   "source": []
  },
  {
   "cell_type": "code",
   "execution_count": null,
   "metadata": {
    "collapsed": true
   },
   "outputs": [],
   "source": []
  }
 ],
 "metadata": {
  "kernelspec": {
   "display_name": "Python 3",
   "language": "python",
   "name": "python3"
  },
  "language_info": {
   "codemirror_mode": {
    "name": "ipython",
    "version": 3
   },
   "file_extension": ".py",
   "mimetype": "text/x-python",
   "name": "python",
   "nbconvert_exporter": "python",
   "pygments_lexer": "ipython3",
   "version": "3.6.1"
  }
 },
 "nbformat": 4,
 "nbformat_minor": 2
}
